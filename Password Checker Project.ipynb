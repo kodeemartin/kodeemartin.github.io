{
 "cells": [
  {
   "cell_type": "markdown",
   "id": "cdb1fe38-dc24-426e-be84-809949d680eb",
   "metadata": {},
   "source": [
    "# Password Checker Project"
   ]
  },
  {
   "cell_type": "markdown",
   "id": "b12d749c-2a7e-4010-8c6c-9045e8d737df",
   "metadata": {},
   "source": [
    "- This program is designed to securely check if your password(s) have ever been hacked, using a Password API.\n",
    "- The Password API utilizes a Hashing Generator of SHA-1, but for the highest level of security, it implements the K-Anonymity technique"
   ]
  },
  {
   "cell_type": "code",
   "execution_count": 12,
   "id": "324ceccb-3fc5-4a15-9b80-068fc761630e",
   "metadata": {},
   "outputs": [
    {
     "name": "stdout",
     "output_type": "stream",
     "text": [
      "-f was found 273 times...you should probably change your password!\n",
      "/Users/kodeemartin/Library/Jupyter/runtime/kernel-e5fb1fed-1308-4a01-bec8-c357256bda43.json was NOT found. Carry on!\n"
     ]
    },
    {
     "ename": "SystemExit",
     "evalue": "done!",
     "output_type": "error",
     "traceback": [
      "An exception has occurred, use %tb to see the full traceback.\n",
      "\u001b[0;31mSystemExit\u001b[0m\u001b[0;31m:\u001b[0m done!\n"
     ]
    }
   ],
   "source": [
    "import requests\n",
    "import hashlib\n",
    "import sys\n",
    "\n",
    "def request_api_data(query_char):\n",
    "\turl = 'https://api.pwnedpasswords.com/range/' + query_char\n",
    "\tres = requests.get(url)\n",
    "\tif res.status_code != 200:\n",
    "\t\traise RuntimeError(f'Error fetching: {res.status_code}, check the api and try again')\n",
    "\treturn res\n",
    "\n",
    "def get_password_leaks_count(hashes, hash_to_check):\n",
    "\thashes = (line.split(':') for line in hashes.text.splitlines())\n",
    "\tfor h, count in hashes:\n",
    "\t\tif h == hash_to_check:\n",
    "\t\t\treturn count\n",
    "\treturn 0\n",
    "\n",
    "def pwned_api_check(password):\n",
    "\tsha1password = hashlib.sha1(password.encode('utf-8')).hexdigest().upper()\n",
    "\tfirst5_char, tail = sha1password[:5], sha1password[5:]\n",
    "\tresponse = request_api_data(first5_char)\n",
    "\treturn get_password_leaks_count(response, tail)\n",
    "\n",
    "def main(args):\n",
    "\tfor password in args:\n",
    "\t\tcount = pwned_api_check(password)\n",
    "\t\tif count:\n",
    "\t\t\tprint(f'{password} was found {count} times...you should probably change your password!')\n",
    "\t\telse:\n",
    "\t\t\tprint(f'{password} was NOT found. Carry on!')\n",
    "\treturn 'done!'\n",
    "\n",
    "if __name__ == '__main__':\n",
    "\tsys.exit(main(sys.argv[1:]))"
   ]
  },
  {
   "cell_type": "markdown",
   "id": "994ad018-b7ee-4c46-a715-66535b19b447",
   "metadata": {},
   "source": [
    "##### Thank you for taking the time to review my Password Checker Project.\n",
    "##### I look forward to hearing from you!"
   ]
  },
  {
   "cell_type": "code",
   "execution_count": null,
   "id": "13f70a27-e020-458a-a4da-b3bf8e9e3823",
   "metadata": {},
   "outputs": [],
   "source": []
  }
 ],
 "metadata": {
  "kernelspec": {
   "display_name": "Python 3 (ipykernel)",
   "language": "python",
   "name": "python3"
  },
  "language_info": {
   "codemirror_mode": {
    "name": "ipython",
    "version": 3
   },
   "file_extension": ".py",
   "mimetype": "text/x-python",
   "name": "python",
   "nbconvert_exporter": "python",
   "pygments_lexer": "ipython3",
   "version": "3.11.7"
  }
 },
 "nbformat": 4,
 "nbformat_minor": 5
}
